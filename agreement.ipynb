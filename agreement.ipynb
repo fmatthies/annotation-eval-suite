{
 "cells": [
  {
   "cell_type": "code",
   "execution_count": 35,
   "metadata": {
    "collapsed": true
   },
   "outputs": [],
   "source": [
    "import glob\n",
    "import os\n",
    "import shutil\n",
    "import random"
   ]
  },
  {
   "cell_type": "code",
   "execution_count": 37,
   "metadata": {
    "collapsed": true
   },
   "outputs": [],
   "source": [
    "random.seed(42)"
   ]
  },
  {
   "cell_type": "code",
   "execution_count": 51,
   "metadata": {
    "collapsed": true
   },
   "outputs": [],
   "source": [
    "root_dir = \"C:\\\\Users\\\\F00708\\\\Documents\\\\medical\\\\\"\n",
    "txt_dir = \"\"\n",
    "out_root = os.path.join(root_dir, \"anno_segment\\\\all_txt\")"
   ]
  },
  {
   "cell_type": "code",
   "execution_count": 62,
   "metadata": {
    "collapsed": true
   },
   "outputs": [],
   "source": [
    "anno_list = [\"k.bunz\", \"f.just\", \"d.dickopf\", \"t.rocktaeschel\", \"e.sobe\"]"
   ]
  },
  {
   "cell_type": "code",
   "execution_count": 24,
   "metadata": {},
   "outputs": [],
   "source": [
    "txt_set = {os.path.basename(i) for i in glob.glob(os.path.join(root_dir,\"anno_medication\")+\"\\\\**\\\\*.txt\", recursive=True)}"
   ]
  },
  {
   "cell_type": "code",
   "execution_count": 32,
   "metadata": {
    "collapsed": true
   },
   "outputs": [],
   "source": [
    "for _txt in txt_set:\n",
    "    for _doc in glob.glob(os.path.join(root_dir,\"anno_medication\")+\"\\\\**\\\\*.txt\", recursive=True):\n",
    "        if _txt == os.path.basename(_doc):\n",
    "            shutil.copy2(_doc, out_root)\n",
    "            break"
   ]
  },
  {
   "cell_type": "code",
   "execution_count": 52,
   "metadata": {},
   "outputs": [],
   "source": [
    "txt_list = glob.glob(out_root + \"\\\\**\")"
   ]
  },
  {
   "cell_type": "code",
   "execution_count": 58,
   "metadata": {},
   "outputs": [],
   "source": [
    "txt_list = list(set(txt_list))"
   ]
  },
  {
   "cell_type": "code",
   "execution_count": 59,
   "metadata": {
    "collapsed": true
   },
   "outputs": [],
   "source": [
    "random.shuffle(txt_list)"
   ]
  },
  {
   "cell_type": "code",
   "execution_count": 63,
   "metadata": {},
   "outputs": [],
   "source": [
    "anno_id = 0\n",
    "for _txt in txt_list:\n",
    "    _foo = os.path.join(root_dir, \"anno_segment\", anno_list[anno_id])\n",
    "    os.makedirs(_foo, exist_ok=True)\n",
    "    shutil.copy2(_txt, _foo)\n",
    "    anno_id += 1\n",
    "    if anno_id > 4:\n",
    "        anno_id = 0"
   ]
  },
  {
   "cell_type": "code",
   "execution_count": null,
   "metadata": {
    "collapsed": true
   },
   "outputs": [],
   "source": []
  }
 ],
 "metadata": {
  "anaconda-cloud": {},
  "kernelspec": {
   "display_name": "Python 3",
   "language": "python",
   "name": "python3"
  },
  "language_info": {
   "codemirror_mode": {
    "name": "ipython",
    "version": 3
   },
   "file_extension": ".py",
   "mimetype": "text/x-python",
   "name": "python",
   "nbconvert_exporter": "python",
   "pygments_lexer": "ipython3",
   "version": "3.5.2"
  }
 },
 "nbformat": 4,
 "nbformat_minor": 1
}
