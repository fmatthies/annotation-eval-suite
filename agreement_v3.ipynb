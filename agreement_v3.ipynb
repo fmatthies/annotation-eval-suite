{
 "cells": [
  {
   "cell_type": "code",
   "execution_count": 1,
   "metadata": {
    "collapsed": true
   },
   "outputs": [],
   "source": [
    "import os\n",
    "import glob\n",
    "import shutil\n",
    "from compare import comparison\n",
    "from operator import itemgetter"
   ]
  },
  {
   "cell_type": "code",
   "execution_count": null,
   "metadata": {
    "collapsed": true
   },
   "outputs": [],
   "source": [
    "FINDEX_STRING = \"C:\\\\Users\\\\F00708\\\\Documents\\\\medical\\\\anno_medication\\\\agreement\\\\agreement_index\"\n",
    "SET_LIST = [\"d.dickopf\", \"e.sobe\", \"f.just\", \"k.bunz\", \"t.rocktaeschel\", \"agr_52_out/bionlp\"]\n",
    "#SET_LIST = [\"d.dickopf\", \"e.sobe\", \"f.just\", \"k.bunz\", \"t.rocktaeschel\"]\n",
    "#SET_LIST = [\"e.sobe\"]\n",
    "ROOT_STRING = \"C:\\\\Users\\\\F00708\\\\Documents\\\\medical\\\\anno_medication\\\\agreement\""
   ]
  },
  {
   "cell_type": "code",
   "execution_count": null,
   "metadata": {
    "collapsed": true
   },
   "outputs": [],
   "source": [
    "FINDEX_STRING = \"C:\\\\Users\\\\F00708\\\\Documents\\\\medical\\\\anno_segment\\\\agreement\\\\02_shared_docs.txt\"\n",
    "#SET_LIST = [\"d.dickopf\", \"e.sobe\", \"f.just\", \"k.bunz\", \"t.rocktaeschel\", \"agr_52_out/bionlp\"]\n",
    "SET_LIST = [\"d.dickopf\", \"e.sobe\", \"k.bunz\", \"t.rocktaeschel\", \"f.just\"]\n",
    "ROOT_STRING = \"C:\\\\Users\\\\F00708\\\\Documents\\\\medical\\\\anno_segment\""
   ]
  },
  {
   "cell_type": "code",
   "execution_count": null,
   "metadata": {
    "collapsed": true
   },
   "outputs": [],
   "source": [
    "FINDEX_STRING = \"/home/matthies/workspaces/pycharm/smith/annotation/test_resources/file_index_centroid\"\n",
    "SET_LIST = [\"data1/centroid\", \"data2/centroid\", \"data3/centroid\"]\n",
    "ROOT_STRING = \"/home/matthies/workspaces/pycharm/smith/annotation/test_resources/\""
   ]
  },
  {
   "cell_type": "code",
   "execution_count": null,
   "metadata": {
    "collapsed": true
   },
   "outputs": [],
   "source": [
    "FINDEX_STRING = \"/home/matthies/software/brat/data/medical/centroid/index\"\n",
    "SET_LIST = [\"data1\", \"data2\", \"data3\"]\n",
    "ROOT_STRING = \"/home/matthies/software/brat/data/medical/centroid/\""
   ]
  },
  {
   "cell_type": "code",
   "execution_count": 55,
   "metadata": {
    "collapsed": true
   },
   "outputs": [],
   "source": [
    "FINDEX_STRING = \"/home/matthies/Private/agreement/agreement_index\"\n",
    "SET_LIST = [\"d.dickopf\", \"e.sobe\", \"f.just\", \"k.bunz\", \"t.rocktaeschel\", \"agr_52_out/bionlp\"]\n",
    "ROOT_STRING = \"/home/matthies/Private/agreement/\""
   ]
  },
  {
   "cell_type": "code",
   "execution_count": 3,
   "metadata": {
    "collapsed": true
   },
   "outputs": [],
   "source": [
    "FINDEX_STRING = \"/home/matthies/Private/pretok_out/pretok_index\"\n",
    "SET_LIST = [\"d.dickopf/brat\", \"e.sobe/brat\", \"f.just/brat\", \"k.bunz/brat\", \"t.rocktaeschel/brat\"]\n",
    "ROOT_STRING = \"/home/matthies/Private/pretok_out/\""
   ]
  },
  {
   "cell_type": "code",
   "execution_count": null,
   "metadata": {
    "collapsed": true
   },
   "outputs": [],
   "source": [
    "agr_list = [(i.rstrip(\"\\n\")) for i in open(FINDEX_STRING).readlines()]"
   ]
  },
  {
   "cell_type": "code",
   "execution_count": null,
   "metadata": {
    "collapsed": true
   },
   "outputs": [],
   "source": [
    "for _set in SET_LIST:\n",
    "    _agr_folder = os.path.join(ROOT_STRING, \"agreement\", \"02\", _set)\n",
    "    os.makedirs(_agr_folder, exist_ok=True)\n",
    "    for _fi in glob.glob(os.path.join(ROOT_STRING, _set, \"02\", \"*\")):\n",
    "        _base = os.path.splitext(os.path.basename(_fi))[0]\n",
    "        if _base + \".txt\" in agr_list:\n",
    "            #if os.path.splitext(os.path.basename(_fi))[-1] == \".txt\":\n",
    "            #    print(_fi)\n",
    "            shutil.copy2(_fi, _agr_folder)"
   ]
  },
  {
   "cell_type": "code",
   "execution_count": null,
   "metadata": {
    "collapsed": true
   },
   "outputs": [],
   "source": [
    "with open(os.path.join(ROOT_STRING, \"agreement\", \"02\", \"agreement_index\"), \"w\") as agr_file :\n",
    "    agr_file.writelines(map(lambda x: os.path.splitext(x)[0] + '\\n', set(agr_list)))"
   ]
  },
  {
   "cell_type": "code",
   "execution_count": null,
   "metadata": {
    "collapsed": true
   },
   "outputs": [],
   "source": [
    "ROOT_STRING = os.path.abspath(os.path.join(ROOT_STRING, \"agreement\", \"02\"))\n",
    "FINDEX_STRING = os.path.join(ROOT_STRING, \"agreement_index\")"
   ]
  },
  {
   "cell_type": "code",
   "execution_count": 56,
   "metadata": {
    "collapsed": false
   },
   "outputs": [
    {
     "name": "stdout",
     "output_type": "stream",
     "text": [
      "DEBUG\n"
     ]
    }
   ],
   "source": [
    "cbatch = comparison.BatchComparison(FINDEX_STRING, SET_LIST, ROOT_STRING)"
   ]
  },
  {
   "cell_type": "markdown",
   "metadata": {},
   "source": [
    "---"
   ]
  },
  {
   "cell_type": "markdown",
   "metadata": {},
   "source": [
    "## One vs All - Centroid Measure"
   ]
  },
  {
   "cell_type": "code",
   "execution_count": 57,
   "metadata": {
    "collapsed": false
   },
   "outputs": [],
   "source": [
    "def create_performance_dict(anno_no, focus_anno, t_trigger):\n",
    "    _performance = dict()\n",
    "    for t in range(1, anno_no):\n",
    "        for b in range(anno_no):\n",
    "            if b >= t:\n",
    "                continue\n",
    "            _c = cbatch.return_agreement(trigger=t_trigger, match_type='one_all', threshold=t, boundary=b)\n",
    "            if row:\n",
    "                _performance[(t,b)] = _c.loc[[row],:]\n",
    "            else:\n",
    "                _performance[(t,b)] = _c\n",
    "    return _performance"
   ]
  },
  {
   "cell_type": "code",
   "execution_count": 58,
   "metadata": {
    "collapsed": false,
    "scrolled": false
   },
   "outputs": [],
   "source": [
    "def create_error_list(focus_anno, t_trigger, error_type):\n",
    "    from collections import defaultdict\n",
    "    errors = defaultdict(set)\n",
    "\n",
    "    for _doc_id in cbatch.doc_list():\n",
    "        _doc = cbatch.get_comparison_obj(document=_doc_id)\n",
    "        for _e in _doc.return_errors(trigger=t_trigger, match_type=\"one_all\", threshold=3, boundary=2,\n",
    "                                     error_type=error_type, focus_annotator=focus_anno):\n",
    "            trigger = _e._text\n",
    "            errors[trigger].add(_doc_id)\n",
    "    return errors"
   ]
  },
  {
   "cell_type": "code",
   "execution_count": 59,
   "metadata": {
    "collapsed": true
   },
   "outputs": [],
   "source": [
    "anno_no = 6\n",
    "row = \"agr_52_out\""
   ]
  },
  {
   "cell_type": "code",
   "execution_count": 62,
   "metadata": {
    "collapsed": false
   },
   "outputs": [],
   "source": [
    "for _trigger in [\"Medication\", \"Dose\", \"Duration\", \"Frequency\", \"Modus\", \"Reason\"]:\n",
    "    _performance = create_performance_dict(anno_no, row, _trigger)\n",
    "    with open(\"/home/matthies/Private/jumex_performance_{}\".format(_trigger),\"w\") as _out:\n",
    "        for _key in sorted(_performance.keys()):\n",
    "            print(\"{}: {}\".format(_key, _performance.get(_key)), file=_out)"
   ]
  },
  {
   "cell_type": "code",
   "execution_count": 66,
   "metadata": {
    "collapsed": true
   },
   "outputs": [],
   "source": [
    "_error_type = \"false_neg\""
   ]
  },
  {
   "cell_type": "code",
   "execution_count": 67,
   "metadata": {
    "collapsed": false
   },
   "outputs": [],
   "source": [
    "for _trigger in [\"Medication\", \"Dose\", \"Duration\", \"Frequency\", \"Modus\", \"Reason\"]:\n",
    "    _errors = create_error_list(row, _trigger, _error_type)\n",
    "    with open(\"/home/matthies/Private/jumex_{}_{}\".format(_error_type, _trigger),\"w\") as _out:\n",
    "        for _e1, _e2 in sorted(_errors.items(), key=itemgetter(0)):\n",
    "            print(\"{} -- [{}]\".format(_e1,\n",
    "                                      \", \".join(_e2)), file=_out)"
   ]
  },
  {
   "cell_type": "markdown",
   "metadata": {},
   "source": [
    "---"
   ]
  },
  {
   "cell_type": "markdown",
   "metadata": {},
   "source": [
    "### Medication"
   ]
  },
  {
   "cell_type": "code",
   "execution_count": null,
   "metadata": {
    "collapsed": true
   },
   "outputs": [],
   "source": [
    "cbatch.print_agreement(trigger=\"Medication\", match_type='one_all', threshold=2, boundary=0)"
   ]
  },
  {
   "cell_type": "code",
   "execution_count": null,
   "metadata": {
    "collapsed": true
   },
   "outputs": [],
   "source": [
    "cbatch.print_agreement(trigger=\"Medication\", match_type='one_all', threshold=3, boundary=2)"
   ]
  },
  {
   "cell_type": "code",
   "execution_count": null,
   "metadata": {
    "collapsed": true
   },
   "outputs": [],
   "source": [
    "cbatch.print_agreement(trigger=\"Medication\", match_type='one_all', threshold=4, boundary=1)"
   ]
  },
  {
   "cell_type": "code",
   "execution_count": null,
   "metadata": {
    "collapsed": true
   },
   "outputs": [],
   "source": [
    "cbatch.print_agreement(trigger=\"Medication\", match_type='one_all', threshold=4, boundary=3)"
   ]
  },
  {
   "cell_type": "markdown",
   "metadata": {},
   "source": [
    "### Dose"
   ]
  },
  {
   "cell_type": "code",
   "execution_count": null,
   "metadata": {
    "collapsed": true
   },
   "outputs": [],
   "source": [
    "cbatch.print_agreement(trigger=\"Dose\", match_type='one_all', threshold=2, boundary=0)"
   ]
  },
  {
   "cell_type": "code",
   "execution_count": null,
   "metadata": {
    "collapsed": true
   },
   "outputs": [],
   "source": [
    "cbatch.print_agreement(trigger=\"Dose\", match_type='one_all', threshold=3, boundary=2)"
   ]
  },
  {
   "cell_type": "code",
   "execution_count": null,
   "metadata": {
    "collapsed": true
   },
   "outputs": [],
   "source": [
    "cbatch.print_agreement(trigger=\"Dose\", match_type='one_all', threshold=4, boundary=1)"
   ]
  },
  {
   "cell_type": "code",
   "execution_count": null,
   "metadata": {
    "collapsed": true
   },
   "outputs": [],
   "source": [
    "cbatch.print_agreement(trigger=\"Dose\", match_type='one_all', threshold=4, boundary=3)"
   ]
  },
  {
   "cell_type": "markdown",
   "metadata": {},
   "source": [
    "### Frequency"
   ]
  },
  {
   "cell_type": "code",
   "execution_count": null,
   "metadata": {
    "collapsed": true
   },
   "outputs": [],
   "source": [
    "cbatch.print_agreement(trigger=\"Frequency\", match_type='one_all', threshold=2, boundary=0)"
   ]
  },
  {
   "cell_type": "code",
   "execution_count": null,
   "metadata": {
    "collapsed": true
   },
   "outputs": [],
   "source": [
    "cbatch.print_agreement(trigger=\"Frequency\", match_type='one_all', threshold=3, boundary=2)"
   ]
  },
  {
   "cell_type": "code",
   "execution_count": null,
   "metadata": {
    "collapsed": true
   },
   "outputs": [],
   "source": [
    "cbatch.print_agreement(trigger=\"Frequency\", match_type='one_all', threshold=4, boundary=1)"
   ]
  },
  {
   "cell_type": "code",
   "execution_count": null,
   "metadata": {
    "collapsed": true
   },
   "outputs": [],
   "source": [
    "cbatch.print_agreement(trigger=\"Frequency\", match_type='one_all', threshold=4, boundary=3)"
   ]
  },
  {
   "cell_type": "markdown",
   "metadata": {},
   "source": [
    "### Modus"
   ]
  },
  {
   "cell_type": "code",
   "execution_count": null,
   "metadata": {
    "collapsed": false
   },
   "outputs": [],
   "source": [
    "cbatch.print_agreement(trigger=\"Modus\", match_type='one_all', threshold=2, boundary=0)"
   ]
  },
  {
   "cell_type": "code",
   "execution_count": null,
   "metadata": {
    "collapsed": false
   },
   "outputs": [],
   "source": [
    "cbatch.print_agreement(trigger=\"Modus\", match_type='one_all', threshold=3, boundary=2)"
   ]
  },
  {
   "cell_type": "code",
   "execution_count": null,
   "metadata": {
    "collapsed": false
   },
   "outputs": [],
   "source": [
    "cbatch.print_agreement(trigger=\"Modus\", match_type='one_all', threshold=4, boundary=1)"
   ]
  },
  {
   "cell_type": "code",
   "execution_count": null,
   "metadata": {
    "collapsed": false
   },
   "outputs": [],
   "source": [
    "cbatch.print_agreement(trigger=\"Modus\", match_type='one_all', threshold=4, boundary=3)"
   ]
  },
  {
   "cell_type": "markdown",
   "metadata": {},
   "source": [
    "### Duration"
   ]
  },
  {
   "cell_type": "code",
   "execution_count": null,
   "metadata": {
    "collapsed": true
   },
   "outputs": [],
   "source": [
    "cbatch.print_agreement(trigger=\"Duration\", match_type='one_all', threshold=2, boundary=0)"
   ]
  },
  {
   "cell_type": "code",
   "execution_count": null,
   "metadata": {
    "collapsed": true
   },
   "outputs": [],
   "source": [
    "cbatch.print_agreement(trigger=\"Duration\", match_type='one_all', threshold=3, boundary=2)"
   ]
  },
  {
   "cell_type": "code",
   "execution_count": null,
   "metadata": {
    "collapsed": true
   },
   "outputs": [],
   "source": [
    "cbatch.print_agreement(trigger=\"Duration\", match_type='one_all', threshold=4, boundary=1)"
   ]
  },
  {
   "cell_type": "code",
   "execution_count": null,
   "metadata": {
    "collapsed": true
   },
   "outputs": [],
   "source": [
    "cbatch.print_agreement(trigger=\"Duration\", match_type='one_all', threshold=4, boundary=3)"
   ]
  },
  {
   "cell_type": "markdown",
   "metadata": {},
   "source": [
    "### Reason"
   ]
  },
  {
   "cell_type": "code",
   "execution_count": null,
   "metadata": {
    "collapsed": true
   },
   "outputs": [],
   "source": [
    "cbatch.print_agreement(trigger=\"Reason\", match_type='one_all', threshold=2, boundary=0)"
   ]
  },
  {
   "cell_type": "code",
   "execution_count": null,
   "metadata": {
    "collapsed": true
   },
   "outputs": [],
   "source": [
    "cbatch.print_agreement(trigger=\"Reason\", match_type='one_all', threshold=3, boundary=2)"
   ]
  },
  {
   "cell_type": "code",
   "execution_count": null,
   "metadata": {
    "collapsed": true
   },
   "outputs": [],
   "source": [
    "cbatch.print_agreement(trigger=\"Reason\", match_type='one_all', threshold=4, boundary=1)"
   ]
  },
  {
   "cell_type": "code",
   "execution_count": null,
   "metadata": {
    "collapsed": true
   },
   "outputs": [],
   "source": [
    "cbatch.print_agreement(trigger=\"Reason\", match_type='one_all', threshold=4, boundary=3)"
   ]
  },
  {
   "cell_type": "markdown",
   "metadata": {},
   "source": [
    "### Sentence"
   ]
  },
  {
   "cell_type": "code",
   "execution_count": null,
   "metadata": {
    "collapsed": true
   },
   "outputs": [],
   "source": [
    "cbatch.print_agreement(trigger=\"Sentence\", match_type='one_all', threshold=2, boundary=0, rm_whitespace=False)"
   ]
  },
  {
   "cell_type": "code",
   "execution_count": null,
   "metadata": {
    "collapsed": true
   },
   "outputs": [],
   "source": [
    "cbatch.print_agreement(trigger=\"Sentence\", match_type='one_all', threshold=3, boundary=2, rm_whitespace=False)"
   ]
  },
  {
   "cell_type": "code",
   "execution_count": null,
   "metadata": {
    "collapsed": true
   },
   "outputs": [],
   "source": [
    "cbatch.print_agreement(trigger=\"Sentence\", match_type='one_all', threshold=4, boundary=1, rm_whitespace=True)"
   ]
  },
  {
   "cell_type": "code",
   "execution_count": null,
   "metadata": {
    "collapsed": true
   },
   "outputs": [],
   "source": [
    "cbatch.print_agreement(trigger=\"Sentence\", match_type='one_all', threshold=4, boundary=3, rm_whitespace=False)"
   ]
  },
  {
   "cell_type": "markdown",
   "metadata": {},
   "source": [
    "### Token"
   ]
  },
  {
   "cell_type": "code",
   "execution_count": null,
   "metadata": {
    "collapsed": true
   },
   "outputs": [],
   "source": [
    "cbatch.print_agreement(trigger=\"Token\", match_type='one_all', threshold=2, boundary=0, rm_whitespace=False)"
   ]
  },
  {
   "cell_type": "code",
   "execution_count": null,
   "metadata": {
    "collapsed": true
   },
   "outputs": [],
   "source": [
    "cbatch.print_agreement(trigger=\"Token\", match_type='one_all', threshold=3, boundary=2, rm_whitespace=False)"
   ]
  },
  {
   "cell_type": "code",
   "execution_count": null,
   "metadata": {
    "collapsed": true
   },
   "outputs": [],
   "source": [
    "cbatch.print_agreement(trigger=\"Token\", match_type='one_all', threshold=4, boundary=1, rm_whitespace=False)"
   ]
  },
  {
   "cell_type": "code",
   "execution_count": null,
   "metadata": {
    "collapsed": true
   },
   "outputs": [],
   "source": [
    "cbatch.print_agreement(trigger=\"Token\", match_type='one_all', threshold=4, boundary=3, rm_whitespace=True)"
   ]
  },
  {
   "cell_type": "markdown",
   "metadata": {},
   "source": [
    "---"
   ]
  },
  {
   "cell_type": "code",
   "execution_count": 13,
   "metadata": {
    "collapsed": true
   },
   "outputs": [],
   "source": [
    "doc_iter = cbatch.doc_iterator()"
   ]
  },
  {
   "cell_type": "code",
   "execution_count": 14,
   "metadata": {
    "collapsed": false
   },
   "outputs": [
    {
     "name": "stdout",
     "output_type": "stream",
     "text": [
      "### Document: 10158936_100281517_2011-02-01-BRIEF ###\n"
     ]
    }
   ],
   "source": [
    "comp_doc = cbatch.compare_doc(document=next(doc_iter))"
   ]
  },
  {
   "cell_type": "code",
   "execution_count": 38,
   "metadata": {
    "collapsed": false
   },
   "outputs": [],
   "source": [
    "_brief = cbatch.get_comparison_obj(document=\"10158936_100281517_2011-02-01-BRIEF\")"
   ]
  },
  {
   "cell_type": "code",
   "execution_count": 42,
   "metadata": {
    "collapsed": false
   },
   "outputs": [
    {
     "data": {
      "text/plain": [
       "'Sehr geehrte Damen und Herren ,\\n\\nwir berichten Ihnen über die Patientin \\n\\n    Kutschera , Ilse , geb. am 10.03.1927 ,     wohnhaft in 07749 Jena , Kernbergstr. 39 ,     Fallnummer : 0100281517\\n\\ndie sich vom 13.01.2011 bis 02.02.2011 auf unserer Station 1 in Behandlung befand .\\n\\nDiagnosen :\\n•   Bronchiolitis obliterans mit organisierender Pneumonie ( BOOP )   J84.1\\n•   Akutes Nierenversagen bei   N17.9\\n•   Exsikkose   E86\\n•   Prolongiertes Delir F05.9\\n•   Presbyakusis beidseits  H91.1\\n•   Arterielle Hypertonie   I10.90\\n•   Chronisches Vorhofflimmern  I48.11\\n•   KM - induzierte Hyperthyreose\\n•   Kachexie bei Z.n. Whipple-OP 1999 nach Spindelzelltumor der Duodenalwand \\n    mit exokriner Pankreasinsuffizienz postoperativ R64\\n•   Sigmadivertikulose  K57.30\\n•   Kolon- und Rektumpolypen, Ektomie 01/10 \\n•   Postmenopausale Osteoporose M81.89\\n•   Aortenklappensklerose   I35.8\\n•   Diabetes mellitus Typ 2 E11.40\\n•   Diabetische Polyneuropathie \\n•   Chronische Niereninsuffizienz Stadium 3 ( Clearance 38 mg / min. )  N18.3\\n•   Hypokaliämie    N87.6\\n•   Schädelprellung nach Sturz am 13.01.2011    S00.95\\n•   Z.n. Oberschenkelfrakturen beidseits    \\n\\n\\nProzeduren :\\n•   Native Computertomographie des Schädels 3 - 200\\n•   Computertomographie des Schädels mit Kontrastmittel 3 - 220\\n•   Native Computertomographie des Thorax   3 - 202\\n•   Computertomographie des Thorax mit Kontrastmittel   3 - 222\\n•   Elektroenzephalographie ( EEG ) : Routine - EEG ( 10 / 20 Elektroden )   1-207.0\\n\\nAnamnese :\\nWir übernahmen die multimorbide Patientin von der Station 441 der KIM III des UKJ , dort wurde sie seit dem 19.12.10 wegen einer Bronchiolitis obliterans mit organisierender Pneumonie , wechselnden Vigilanzstörungen im Rahmen eines Delirs und einer akuten Niereninsuffizienz behandelt . . \\nAktuell bei Aufnahme berichtet die Patientin , dass sie noch sehr müde sei . \\nDyspnoe in Ruhe , AP - Symptomatik , Palpitationen und Schwindel werden verneint . \\nZu Hause habe sie sich manchmal beim Teetrinken verschluckt . \\nAn die Umstände der primären Krankenhauseinweisung kann sich die Patientin nicht erinnern . \\nIm Gespräch wirkt Frau Kutschera sehr weitschweifend und an Gedanken festhängend . \\nDer Appetit sei besser geworden . \\nIn der KIM konnte die Patientin nicht gut schlafen . \\nÜbelkeit und Erbrechen sowie Husten werden verneint . \\nSeit dem Krankenhausaufenthalt hat die Patientin einen Harnblasenkatheter . \\nAllergien und Nahrungsmittelunverträglichkeiten bestehen nicht . \\nSturzanamnestisch berichtet die Patientin über rezidivierende Stürze mit Knochenbrüchen . \\nDer letzte Sturz sei vor ca. 3 Jahren gewesen , damals sei sie im Garten ausgerutscht und von einer Mauer gefallen . \\nDie Patientin wohnt alleine , seitdem ihr Ehemann vor ca. 4 Jahren verstorben ist . \\nEs gibt eine Stieftochter Frau Gisela Endres , die in Oppenfels wohnt . \\nFrau Kutschera wohnt in der 2. Etage und hat ca. 24 Treppenstufen zu bewältigen . \\nIn letzter Zeit hätte sie diese Stufen nicht mehr geschafft . \\nVor dem Krankenhausaufenthalt war die Patientin weitestgehend selbstständig . \\nFür den Einkauf und die Wäsche kam eine Haushaltshilfe 1 x pro Woche . \\nDer Pflegedienst kam 2 x pro Tag zum Anziehen der Kompressionstrümpfe und 1 x pro Woche zum Baden . \\nEine Pflegestufe sei beantragt . \\nEine Vorsorgevollmacht ist auf die Stieftochter ausgestellt . \\nEine Patientenverfügung besteht nicht . \\nDie Patientin bemerkt , dass sie noch nicht ins Altersheim möchte .  \\n\\nKlinischer Befund :\\n83 - jährige Pat. mit asthenischer Konstitution , reduz. Körperzustand , kachektischer EZ , Bewusstsein klar , Pat. gut orientiert , Psyche o. B. , Bewegungen o. B. , Haut o. B. , kein Fötor , Ödeme US / OS bds. sowie Flankenödeme bds. , Nase / Lippen / Zunge / Tonsillen / Rachen unauff. , Gebiss z. T. saniert , z. T. kariös und lückenhaft , Atmung unauff. \\nPulmo : vesikuläres Atemgeräusch , sonorer Klopfschall , keine NG . \\nCor : HT arrhythmisch , 3 / 6 Systolikum m. punctum max. über Erb . \\nAbdomen : Bauchdecken schlaff , eingesunken , Darmgeräusche in allen 4 Quadranten , Bauch kein Druckschmerz , keine Abwehrspannung , keine Brüche , Nierenlager unauff. , Milz / Leber unauff. \\nRekt. Unters. : perianale Rötung m. 1 cm gr. Riss in der Rima ani , Sphinktertonus normal , kein Tumor , kein Blut . \\nWS : verstärkte BWS - Kyphose , kein Klopfschmerz , kein Stauchungsschmerz , Hände Faustschluss bds. mgl. , gr. Gelenke unauff. , Umfänge unauff. , keine Lähmungen . \\nNAP / Fazialis unauff. \\nReflexe : PSR / ASR bds. nicht auslösbar , RPR / BSR bds. seitengleich auslösbar , Babinski bds. neg. , Lasegue neg. , Ischiadicusdruckschmerz neg. \\nKraft: obere Extremitäten bds. 4+ , obere Extremitäten 4+ , allgemeine muskuläre Schwäche , Vibration obere Extremitäten 8 / 8 bds , untere Extremität 6 / 8 bds. \\nWeitere Befunde : an der linken Flanke älteres Hämatom , am li. Unterarm eine ca. 2 x 2 cm gr. Hautabschürfung , multiple reizlose Narben auf den Bauchdecken und Oberschenkeln . \\n\\nTechnische Untersuchungen und Konsile :\\nEKG\\n14.01.11    LT , VHF , HF ca. 90 / min, verzögerte R-Progression über Brustwandableitung , keine RBSt.   \\nLangzeit - EKG\\n20.01.11    Durchgehend VHF , mittlere HF 95 / min ( 80 - 120 ) bei manifester Hyperthyreose , keine nächtliche HF - Absenkung . \\n140 VES , davon 1 Couplet , sonst keine tachykarden- oder bradykarden Rhythmusstörungen , keine Pausen . \\nProcedere : jetzt Verordnung eines ß-Blockers .\\nLangzeit - RR\\n27.01.11    Hypertensive RR - Werte , Mittelwert Tag 160 / 94 mmHg , in der Nacht 173 / 103 mmHg . \\nSpitzenwert mit 184 / 97 mmHg um 17:51 Uhr . \\nNiedrigster Wert um 16:20 Uhr mit 146 / 90 mmHg .\\n\\nSonografie Abdomen\\n17.01.11    \\nFragestellung : Volumenstatus\\nLeber : normal groß ( MCL 14 cm ) und regelrecht konfiguriert , homogene echonormale Parenchymstruktur , glatte OF. , Lebervenen nicht dilatiert , keine fokale Läsion , intra- und extrahepatische Gallenwege nicht erweitert . \\nGB : Z.n. CCE . \\nDHC 3 mm , V. portae 10 mm .\\nVCI max. 15 mm , gut atemmoduliert .\\nAorta : unauffällig .\\nPankreas : bei Z. n. Whipple-OP Caput nicht darstellbar . \\nRestparenchym homogen , glatt konfiguriert . \\nMilz : regelrechte Größe , Form und Struktur , homogen .\\nNieren : beidseits orthotop gelegen , normale Organgröße , glatte Organkontur , kein Harnstau , keine Konkremente . \\nHarnblase : glatt begrenzt , flüssigkeitsgefüllt .\\nPleura : Pleuraergüsse bds. ( links 250 ml ; rechts 230 ml ) .\\nBeurteilung : \\nVCI max. 15 mm , gut atemmoduliert . \\nPleuraergüsse bds. ( links 250 ml ; rechts 230 ml ) .\\nZ. n. Whipple-OP mit CCE .\\n\\nKonsil\\n25.01.11    Psychiatrie : \\nBefund : derzeit keine psychiatrische Diagnose : \\nZ. n. Delir , keine akute Symptomatik bei organischer Ursache , keine Intervention erforderlich . \\n\\nEpikrise :\\nDie stationäre Übernahme der multimorbiden Patientin erfolgte von der Station 441 der KIM III des UKJ mit Z. n. Bronchiolitis obliterans mit organisierter Pneumonie zur geriatrischen Frührehabilitation mit dem Ziel der Mobilisierung und Steigerung der Selbsthilfefähigkeit . \\n\\nEine Prednisolontherapie wurde in der KIM III am 07.01.11 mit 25 mg / d per os eingeleitet . \\nDie Therapie soll nach Rücksprache mit den Pneumologen mit 20 mg / d für ca. 2 Monate ( bis ca.07.03.2011 ) fortgeführt werden . \\nVor Dosisreduktion bitten wir um eine CT Thorax - Verlaufskontrolle und Vorstellung der Patientin in der pulmonologischen Sprechstunde des UKJ . \\nAnschließend bitten wir um eine ausschleichende Dosisreduktion um 5 mg / d alle 7 Tage bis auf 15 mg / d , dann in 2,5 mg - Schritten alle 7 Tage bis auf 10 mg , dann in 1 mg - Schritten alle 7 Tage bis auf eine Erhaltungsdosis von 6 - 7 mg täglich . \\nDa sich unter der Prednisolongabe erhöhte Blutzuckerwerte im Tagesprofil zeigten , wurde eine Insulintherapie mit Protaphane begonnen . \\nZuletzt registrierten wir stabile BZ - Werte im therapeutischen Bereich . \\nWir bitten um ambulante BZ - Kontrollen . \\n\\nDie Inhalationstherapie mit Salbutamol und Atrovent wurde ebenfalls fortgeführt . \\nDer Astrup nativ zeigte im Verlauf eine gute Sauerstoffsättigung . \\nDie Therapie mit Salbutamol wurde beendet und die Therapie mit Ipratropiumpromid wurde auf 2 x täglich reduziert .\\n\\nIm Aufnahmelabor zeigte sich der Befund einer Hyperthyreose nach Kontrastmittelexposition ( Angio - CT des Thorax mit KM vom 29.12.10 in der KIM III ) . \\nEine Therapie mit Natriumperchlorat zeigte keinen Effekt . \\nDaraufhin erfolgte die Umstellung auf Thiamazol niedrigdosiert mit 5 mg / d seit dem 21.01.11 . \\nWir bitten um regelmäßige Kontrollen der Schilddrüsenparameter nach 3 - 4 Wochen im ambulanten Bereich und ggf. die Dosisanpassung des Thiamazol . \\nWegen potentieller NW bitten wir um regelmäßige BB - Kontrollen .\\n\\nBei einem im Verlauf regredienten Delir ( siehe Epikrise des Voraufenthaltes ) mit aktuell noch leichter Antriebsminderung wurde die Patientin konsiliarisch erneut den Kollegen der Psychiatrie vorgestellt . \\nAus psychiatrischer Sicht ist eine Intervention aktuell nicht erforderlich . \\n\\nWährend des stationären Aufenthaltes wurde im Ruhe - EKG ein bisher nicht bekanntes Vorhofflimmern dokumentiert , möglicherweise ausgelöst durch die Hyperthyreose . \\nDeshalb erfolgte ein LZ - EKG . \\nHier zeigte sich ein durchgehendes Vorhofflimmern mit mittlerer Herzfrequenz von 95 / min ( 80 - 120 / min ) . \\nEs bestand deshalb die Indikation zur Vollantikoagulation . \\nWir begannen mit niedemolekularem Heparin ( Monoembolex 8000 IE sc. ) , ambulant müsste über die Umstellung auf Phenprocoumon unter Berücksichtigung des erhöhten Sturzrisikos ( mehrfache schwere Stürze mit Traumata in der Vorgeschichte ) entschieden werden . \\nAlternativ könnte die Patientin zur Thromboembolieprophylaxe auf ASS 100 mg eingestellt werden . \\nWir bitten um EKG - Verlaufskontrollen in 3 und 6 Wochen , auch wäre eine kardiologische Mitbehandlung der Patientin wünschenswert .\\nZur Herzfrequenzkontrolle bei tachykard übergeleitetem Vorhofflimmern wurde die Therapie mit einem ß-Blocker eingeleitet . \\nDie diuretische Therapie wurde bei Exsikkose beendet . \\nEine Hypokaliämie wurde substituiert .\\n\\nWährend des stationären Aufenthaltes zeigten sich hypertensive Blutdruckwerte , die auch im LZ - RR mit einem Mittelwert am Tag von 160 / 94 mmHg und in der Nacht 173 / 103 mmHg dokumentiert sind . \\nDaraufhin erfolgte eine Anpassung der antihypertensiven Therapie . \\n\\nWährend des stationären Aufenthaltes stürzte die Patientin am 13.01.11 im Bad auf den Hinterkopf . \\nEs erfolgte eine Vorstellung in der zentralen Notaufnahme . \\nKlinisch zeigte sich ein ca. 2 cm großes Hämatom am Hinterkopf . \\nHinweise auf ein Schädelhirntrauma ergeben sich nicht . \\nNach Rücksprache mit den Kollegen der Neurologie besteht derzeit keine Indikation zur weiteren Diagnostik und Handlungsbedarf . \\n\\nHier zeigten sich anhaltend leichte Diarrhoen . \\nMehrfache Stuhlkulturen zeigten keinen pathologischen Befund . \\nZur Symptomlinderung wurden Perenterol - Kapseln oral gegeben . \\nAnamnestisch gab die Patientin an , chronische Diarrhoen seit der Wipple - Operation 1999 zu haben , seither besteht auch eine exokrine Pankreasinsuffizienz . \\nDie Substitution mit Pankreasenzymen wurde fortgeführt . \\nEs erfolgte hier ein oraler Kostaufbau mit ausreichend Flüssigkeitszufuhr . \\nWährend des stationären Aufenthaltes klagte die Patientin über Meteorismus . \\nUnter Simeticongabe kam es zu einer Besserung der Symptomatik . \\n\\nEine bekannte postmenopausale Osteoporose wurde bereits mit einer oralen Bisphosphonat - Therapie mit Ibandronat 3 mg iv. alle 3 Monate behandelt . \\n\\nStationär erhielt Frau Kutschera ein angepasstes Physio- und Ergotherapietraining . \\nIn der Physiotherapie erhielt die Patientin Krankengymnastik für die unteren Extremitäten zur Konditionierung und Kräftigung , insbesondere wurde ein Sturzprophylaxeprogramm durchgeführt . \\nEbenfalls erfolgte Gangschule mit Rollator auf Stationsebene . \\nIn der Ergotherapie erfolgte Konditionierung und Kräftigung der oberen Extremitäten . \\nEs erfolgte ein Atemtherapie und kognitives Training . \\nInsgesamt hat die Patientin von dem Klinikaufenthalt profitiert und sich in Ausdauer und Kraft verbessert und psychisch stabilisiert . \\nDie Schulterbeweglichkeit hat sich verbessert und das Schultergelenk ist frei beweglich . \\nUnter mehrfach durchgeführten Sturzprophylaxeprogrammen zeigte die Patientin gegen Ende des Aufenthaltes eine leichte Stabilisierung . \\nEine Haltabsicherung ist jedoch weiterhin nötig . \\nDie Patientin ist gut orientiert . \\nFr. Kutschera schläft noch sehr viel und hat wenig Eigenantrieb . \\nInsgesamt wurden die Ziele erreicht . \\nDies spiegelt auch die Steigerung des Barthel - Index von 40 auf 80 Punkte wider .\\n\\nWir entlassen Frau Kutschera in gebessertem Allgemeinzustand und gebesserter Mobilität zurück in ihr häusliches Umfeld . \\nEin Rollator wurde verordnet . \\n\\nTherapieempfehlung :\\nPrednisolon 20 mg       1-0-0 ( Dosisreduktion siehe oben )\\nPantozol 40 mg      0-0-1\\nKreon 25 000 IE         1-1-1 ( 15 min vor den Mahlzeiten einnehmen )\\nGlibenclamid 1,75 mg        1-0-0\\nCalcilac KT             1-0-0\\nBeloc-Zok 95 mg         ½ -0-0\\nRamipril 5 mg           1-0-1\\nMethizol 5 mg           1-0-0\\nEspumisan Perlen        2-2-2\\nAmlodipin 5 mg      1-0-1\\nProtaphane sc.          14-0-0 s.c.\\nMonoembolex 8000 IE         0-0-1 s.c.\\n\\n\\nAktuelles Behinderungsprofil :\\n\\nAssessment / Test Wert bei Aufnahme   Wert bei Entlassung Kommentar\\nBody-Mass-Index 18,2        Malnutrition\\nMini Mental State n. Folstein   26 v. 30        Keine kognitiven Defizite\\nGeriatric Depression Scale n. Yesevage  5 v. 15     V.a. leichte Depression , im Verlauf nicht bestätigt .\\nLACHS-Index 7 v. 15     \\nPathologisch : Hören , Blaseninkontinenz , Ernährung , kognitiver Status , Alltagaktivitäten , Krankenhausaufenthalt in den letzten 3 Monaten , Medikamenteneinnahme ( Polymedikation )\\nBarthel-Index   40 v. 100   80 v. 100   \\nVerbesserung : Transfer , Toilettenbenutzung , Gehen , An- und Auskleiden , Urinkontrolle\\nTimed \" Up & Go \" - Test  25 Sek. 25 Sek. \\nAufnahme : Mobilitätseinschränkung mit möglichen funktionellen Auswirkungen ( Gehgeschwindigkeit ca. 0,5 m / s )\\nMobilitätstest n. Tinetti   15 v. 28    18 v. 28    Mobilität leicht eingeschränkt , Sturzrisiko relativ gering .\\nEntlassung : Mobilität leicht eingeschränkt , Sturzrisiko erhöht . \\n( siehe oben ! )\\nSoziales Assessment         Wurde erhoben\\n\\n\\nMit freundlichen Grüßen\\n\\nDr. med. A. Kwetkat Dr. med. I. Krusche Ch. Baumann\\nChefärztin  Oberarzt der Klinik Assistenzärztin\\n'"
      ]
     },
     "execution_count": 42,
     "metadata": {},
     "output_type": "execute_result"
    }
   ],
   "source": [
    "_brief._text"
   ]
  },
  {
   "cell_type": "code",
   "execution_count": 36,
   "metadata": {
    "collapsed": false
   },
   "outputs": [
    {
     "name": "stdout",
     "output_type": "stream",
     "text": [
      "Sentence.: 25\n",
      "                 •   Postmenopausale Osteoporose M81.89\n",
      "d.dickopf     :      Postmenopa sale O tteoporose M81.89orose M81.89\n",
      "e.sobe        :      Po  mmenopausale Osteoporose M81.89pausale Osteopo ose M81.89\n",
      "f.just        :        sstmenopausale Osteoporose M81.89nopausale Osteo orose M81.8 \n",
      "k.bunz        :  ••   Postmenopausale Osteoporose M81.89Postmenopausale Osteoporose M81.89\n",
      "t.rocktaeschel:  ••   Postmenopausale Osteoporose M81.89Postmenopausale Osteoporose M81.89\n"
     ]
    }
   ],
   "source": [
    "next(comp_doc)"
   ]
  },
  {
   "cell_type": "markdown",
   "metadata": {},
   "source": [
    "### SENTENCE: Strict F-Score"
   ]
  },
  {
   "cell_type": "code",
   "execution_count": 50,
   "metadata": {
    "collapsed": false
   },
   "outputs": [
    {
     "data": {
      "text/plain": [
       "['10158936_100281517_2011-02-01-BRIEF',\n",
       " '10231770_140113604_2014-05-03-HERZBR',\n",
       " '10000472_100186361_2010-08-26-_CHEMO',\n",
       " '10110047_110206551_2011-09-13-_KURZ',\n",
       " '10000510_150015057_2015-01-20-ANGIO']"
      ]
     },
     "execution_count": 50,
     "metadata": {},
     "output_type": "execute_result"
    }
   ],
   "source": [
    "_l = list(cbatch.doc_list())\n",
    "_l"
   ]
  },
  {
   "cell_type": "code",
   "execution_count": 51,
   "metadata": {
    "collapsed": true
   },
   "outputs": [],
   "source": [
    "agr_list_sent = [\n",
    "    cbatch.get_comparison_obj(document=_d)\n",
    "    .return_agreement_scores(trigger=\"Sentence\", match_type='strict') for _d in _l\n",
    "]"
   ]
  },
  {
   "cell_type": "code",
   "execution_count": 52,
   "metadata": {
    "collapsed": false
   },
   "outputs": [
    {
     "name": "stdout",
     "output_type": "stream",
     "text": [
      "10158936_100281517_2011-02-01-BRIEF\n",
      "                all_fscore  all_precision  all_recall\n",
      "d.dickopf             0.90           0.92        0.87\n",
      "e.sobe                0.86           0.85        0.86\n",
      "f.just                0.91           0.91        0.92\n",
      "k.bunz                0.89           0.89        0.88\n",
      "t.rocktaeschel        0.91           0.90        0.92\n",
      "\n",
      "10231770_140113604_2014-05-03-HERZBR\n",
      "                all_fscore  all_precision  all_recall\n",
      "d.dickopf             0.93           0.93        0.93\n",
      "e.sobe                0.94           0.94        0.94\n",
      "f.just                0.94           0.95        0.93\n",
      "k.bunz                0.91           0.91        0.92\n",
      "t.rocktaeschel        0.93           0.93        0.94\n",
      "\n",
      "10000472_100186361_2010-08-26-_CHEMO\n",
      "                all_fscore  all_precision  all_recall\n",
      "d.dickopf             0.92           0.94        0.90\n",
      "e.sobe                0.91           0.90        0.92\n",
      "f.just                0.92           0.92        0.92\n",
      "k.bunz                0.89           0.90        0.88\n",
      "t.rocktaeschel        0.91           0.89        0.92\n",
      "\n",
      "10110047_110206551_2011-09-13-_KURZ\n",
      "                all_fscore  all_precision  all_recall\n",
      "d.dickopf             0.89           0.88        0.90\n",
      "e.sobe                0.84           0.84        0.84\n",
      "f.just                0.87           0.89        0.85\n",
      "k.bunz                0.89           0.86        0.92\n",
      "t.rocktaeschel        0.88           0.90        0.86\n",
      "\n",
      "10000510_150015057_2015-01-20-ANGIO\n",
      "                all_fscore  all_precision  all_recall\n",
      "d.dickopf             0.91           0.93        0.89\n",
      "e.sobe                0.91           0.89        0.92\n",
      "f.just                0.92           0.93        0.90\n",
      "k.bunz                0.95           0.93        0.96\n",
      "t.rocktaeschel        0.94           0.94        0.94\n",
      "\n"
     ]
    }
   ],
   "source": [
    "for i in range(5):\n",
    "    print(_l[i])\n",
    "    print(agr_list_sent[i].loc[:,[\"all_fscore\",\"all_precision\",\"all_recall\"]])\n",
    "    print()"
   ]
  },
  {
   "cell_type": "markdown",
   "metadata": {},
   "source": [
    "### Token: Strict F-Score"
   ]
  },
  {
   "cell_type": "code",
   "execution_count": 53,
   "metadata": {
    "collapsed": true
   },
   "outputs": [],
   "source": [
    "agr_list_tok = [\n",
    "    cbatch.get_comparison_obj(document=_d)\n",
    "    .return_agreement_scores(trigger=\"Token\", match_type='strict') for _d in _l\n",
    "]"
   ]
  },
  {
   "cell_type": "code",
   "execution_count": 54,
   "metadata": {
    "collapsed": false
   },
   "outputs": [
    {
     "name": "stdout",
     "output_type": "stream",
     "text": [
      "10158936_100281517_2011-02-01-BRIEF\n",
      "                all_fscore  all_precision  all_recall\n",
      "d.dickopf             0.98           0.98        0.97\n",
      "e.sobe                0.97           0.98        0.97\n",
      "f.just                0.98           0.98        0.98\n",
      "k.bunz                0.98           0.97        0.98\n",
      "t.rocktaeschel        0.97           0.97        0.97\n",
      "\n",
      "10231770_140113604_2014-05-03-HERZBR\n",
      "                all_fscore  all_precision  all_recall\n",
      "d.dickopf             0.98           0.98        0.98\n",
      "e.sobe                0.98           0.98        0.98\n",
      "f.just                0.98           0.98        0.98\n",
      "k.bunz                0.98           0.98        0.98\n",
      "t.rocktaeschel        0.97           0.98        0.96\n",
      "\n",
      "10000472_100186361_2010-08-26-_CHEMO\n",
      "                all_fscore  all_precision  all_recall\n",
      "d.dickopf             0.97           0.96        0.97\n",
      "e.sobe                0.96           0.96        0.97\n",
      "f.just                0.97           0.97        0.96\n",
      "k.bunz                0.96           0.96        0.96\n",
      "t.rocktaeschel        0.96           0.97        0.96\n",
      "\n",
      "10110047_110206551_2011-09-13-_KURZ\n",
      "                all_fscore  all_precision  all_recall\n",
      "d.dickopf             0.98           0.98        0.98\n",
      "e.sobe                0.98           0.97        0.98\n",
      "f.just                0.98           0.98        0.99\n",
      "k.bunz                0.97           0.97        0.97\n",
      "t.rocktaeschel        0.98           0.98        0.97\n",
      "\n",
      "10000510_150015057_2015-01-20-ANGIO\n",
      "                all_fscore  all_precision  all_recall\n",
      "d.dickopf             0.97           0.97        0.97\n",
      "e.sobe                0.96           0.96        0.96\n",
      "f.just                0.97           0.97        0.97\n",
      "k.bunz                0.97           0.96        0.98\n",
      "t.rocktaeschel        0.96           0.97        0.96\n",
      "\n"
     ]
    }
   ],
   "source": [
    "for i in range(5):\n",
    "    print(_l[i])\n",
    "    print(agr_list_tok[i].loc[:,[\"all_fscore\",\"all_precision\",\"all_recall\"]])\n",
    "    print()"
   ]
  },
  {
   "cell_type": "markdown",
   "metadata": {},
   "source": [
    "---"
   ]
  },
  {
   "cell_type": "code",
   "execution_count": null,
   "metadata": {
    "collapsed": true
   },
   "outputs": [],
   "source": [
    "_doc = '10746054_120298844_2013-01-02-_PNEUMO'"
   ]
  },
  {
   "cell_type": "code",
   "execution_count": null,
   "metadata": {
    "collapsed": true
   },
   "outputs": [],
   "source": [
    "sent_count, _ann_map_sent = cbatch.list_specific_trigger(document=_doc, trigger='Sentence',\n",
    "                             _return=True, counter=True)"
   ]
  },
  {
   "cell_type": "code",
   "execution_count": null,
   "metadata": {
    "collapsed": true
   },
   "outputs": [],
   "source": [
    "tok_count, _ann_map_tok = cbatch.list_specific_trigger(document=_doc, trigger='Token',\n",
    "                             _return=True, counter=True)"
   ]
  },
  {
   "cell_type": "code",
   "execution_count": null,
   "metadata": {
    "collapsed": true
   },
   "outputs": [],
   "source": [
    "for sent, count in sorted(sent_count.most_common(), key=itemgetter(0)):\n",
    "    if count <= 4:\n",
    "        print(\"{} {}: {}\".format(\"_\".join(sent.split(\"_\")[:-1]),\n",
    "                                 sent.split(\"_\")[-1],\n",
    "                                 _ann_map_sent[sent]), file=open(\"{}_SENT_DIFF.txt\".format(_doc), \"a\"))"
   ]
  },
  {
   "cell_type": "code",
   "execution_count": null,
   "metadata": {
    "collapsed": true
   },
   "outputs": [],
   "source": [
    "for tok, count in sorted(tok_count.most_common(), key=itemgetter(0)):\n",
    "    if count <= 4:\n",
    "        print(\"{} {}: {}\".format(\"_\".join(tok.split(\"_\")[:-1]),\n",
    "                                 tok.split(\"_\")[-1],\n",
    "                                 _ann_map_tok[tok]), file=open(\"{}_TOK_DIFF.txt\".format(_doc), \"a\"))"
   ]
  },
  {
   "cell_type": "code",
   "execution_count": null,
   "metadata": {
    "collapsed": true
   },
   "outputs": [],
   "source": []
  }
 ],
 "metadata": {
  "anaconda-cloud": {},
  "kernelspec": {
   "display_name": "Python [default]",
   "language": "python",
   "name": "python3"
  },
  "language_info": {
   "codemirror_mode": {
    "name": "ipython",
    "version": 3
   },
   "file_extension": ".py",
   "mimetype": "text/x-python",
   "name": "python",
   "nbconvert_exporter": "python",
   "pygments_lexer": "ipython3",
   "version": "3.5.2"
  }
 },
 "nbformat": 4,
 "nbformat_minor": 1
}
